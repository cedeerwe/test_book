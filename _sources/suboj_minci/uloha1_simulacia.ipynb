{
 "cells": [
  {
   "cell_type": "markdown",
   "metadata": {},
   "source": [
    "Simulácia\n",
    "============\n",
    "\n",
    "Podobných simulácii sme už na minulej hodine niekoľko robili, nemalo by ísť o nič nové. Pozorne si ale kód prečítajte, aby ste mu dobre rozumeli a vedeli aj sami napísať niečo podobné."
   ]
  },
  {
   "cell_type": "code",
   "execution_count": 1,
   "metadata": {
    "execution": {
     "iopub.execute_input": "2020-06-21T14:54:05.088973Z",
     "iopub.status.busy": "2020-06-21T14:54:05.087112Z",
     "iopub.status.idle": "2020-06-21T14:54:05.093971Z",
     "shell.execute_reply": "2020-06-21T14:54:05.092215Z"
    }
   },
   "outputs": [],
   "source": [
    "import random\n",
    "HLAVA = \"H\" # uložíme si tieto dva špeciálne znaky, aby sa nám lepšie čítal kód\n",
    "ZNAK = \"Z\"\n",
    "\n",
    "def hadz_hlava_hlava_proti_hlava_znak():\n",
    "    posledny_hod = \"\"\n",
    "    while True:\n",
    "        hod = HLAVA if random.random() < 0.5 else ZNAK\n",
    "        # porovnáme minulý hod a súčasný proti hlave a znaku.\n",
    "        if [posledny_hod, hod] == [HLAVA, ZNAK]: \n",
    "            return 1 # vyhral prvý hráč\n",
    "        # porovnáme minulý hod a súčasný proti hlave a hlave.\n",
    "        if [posledny_hod, hod] == [HLAVA, HLAVA]: \n",
    "            return 0 # vyhral druhý hráč\n",
    "        posledny_hod = hod # ak nikto nevyhral, súčasným hodom si prepíšeme posledný"
   ]
  },
  {
   "cell_type": "code",
   "execution_count": 2,
   "metadata": {
    "execution": {
     "iopub.execute_input": "2020-06-21T14:54:05.112206Z",
     "iopub.status.busy": "2020-06-21T14:54:05.110437Z",
     "iopub.status.idle": "2020-06-21T14:54:05.129890Z",
     "shell.execute_reply": "2020-06-21T14:54:05.128154Z"
    }
   },
   "outputs": [
    {
     "data": {
      "text/plain": [
       "1"
      ]
     },
     "execution_count": 2,
     "metadata": {},
     "output_type": "execute_result"
    }
   ],
   "source": [
    "hadz_hlava_hlava_proti_hlava_znak()"
   ]
  },
  {
   "cell_type": "code",
   "execution_count": 3,
   "metadata": {
    "execution": {
     "iopub.execute_input": "2020-06-21T14:54:05.148030Z",
     "iopub.status.busy": "2020-06-21T14:54:05.146271Z",
     "iopub.status.idle": "2020-06-21T14:54:05.187995Z",
     "shell.execute_reply": "2020-06-21T14:54:05.186426Z"
    }
   },
   "outputs": [
    {
     "data": {
      "text/plain": [
       "0.5088"
      ]
     },
     "execution_count": 3,
     "metadata": {},
     "output_type": "execute_result"
    }
   ],
   "source": [
    "N = 10000\n",
    "sum(hadz_hlava_hlava_proti_hlava_znak() for i in range(N)) / N"
   ]
  }
 ],
 "metadata": {
  "jupytext": {
   "text_representation": {
    "extension": ".md",
    "format_name": "myst",
    "format_version": "0.8",
    "jupytext_version": "1.4.1"
   }
  },
  "kernelspec": {
   "display_name": "Python 3",
   "language": "python",
   "name": "python3"
  },
  "language_info": {
   "codemirror_mode": {
    "name": "ipython",
    "version": 3
   },
   "file_extension": ".py",
   "mimetype": "text/x-python",
   "name": "python",
   "nbconvert_exporter": "python",
   "pygments_lexer": "ipython3",
   "version": "3.6.9"
  },
  "source_map": [
   12,
   19,
   37,
   41
  ]
 },
 "nbformat": 4,
 "nbformat_minor": 4
}